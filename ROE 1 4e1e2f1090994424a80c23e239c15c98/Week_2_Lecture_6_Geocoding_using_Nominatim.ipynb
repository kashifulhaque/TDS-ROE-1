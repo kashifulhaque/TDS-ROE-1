{
  "nbformat": 4,
  "nbformat_minor": 0,
  "metadata": {
    "colab": {
      "name": "Geocoding_using_Nominatim.ipynb",
      "provenance": []
    },
    "kernelspec": {
      "name": "python3",
      "display_name": "Python 3"
    },
    "language_info": {
      "name": "python"
    }
  },
  "cells": [
    {
      "cell_type": "markdown",
      "metadata": {
        "id": "Iyk0ElaXIlm2"
      },
      "source": [
        "# Scraping using Geocoding API of Open Street Maps (OSM)\n",
        "We would be using the Nominatim API to scrape geocoding information of any open ended address text using Python."
      ]
    },
    {
      "cell_type": "code",
      "metadata": {
        "id": "-LuNOEOgE8SR"
      },
      "source": [
        "# no need to install these if using Google Colab\n",
        "# !pip install geopandas\n",
        "# !pip install geopy"
      ],
      "execution_count": null,
      "outputs": []
    },
    {
      "cell_type": "code",
      "metadata": {
        "id": "5a-bYKeFE8Pu"
      },
      "source": [
        "#import nominatim api\n",
        "from geopy.geocoders import Nominatim"
      ],
      "execution_count": null,
      "outputs": []
    },
    {
      "cell_type": "code",
      "metadata": {
        "id": "Ehpfh17zE8Nh"
      },
      "source": [
        "#activate nominatim geocoder\n",
        "locator = Nominatim(user_agent=\"myGeocoder\")\n",
        "#type any address text\n",
        "location = locator.geocode(\"Champ de Mars, Paris, France\")"
      ],
      "execution_count": null,
      "outputs": []
    },
    {
      "cell_type": "code",
      "metadata": {
        "colab": {
          "base_uri": "https://localhost:8080/"
        },
        "id": "xf7vfNMoE8LT",
        "outputId": "482ed740-62be-449c-b0fe-99e297a30095"
      },
      "source": [
        "#print lattitude and longitude of the address\n",
        "print(\"Latitude = {}, Longitude = {}\".format(location.latitude, location.longitude))"
      ],
      "execution_count": null,
      "outputs": [
        {
          "output_type": "stream",
          "text": [
            "Latitude = 48.85614465, Longitude = 2.297820393322227\n"
          ],
          "name": "stdout"
        }
      ]
    },
    {
      "cell_type": "code",
      "metadata": {
        "colab": {
          "base_uri": "https://localhost:8080/"
        },
        "id": "Ah4sD11EFfjp",
        "outputId": "75039d38-8238-48c2-8353-6410d506f0e5"
      },
      "source": [
        "#the API output has multiple other details as a json like altitude, lattitude, longitude, correct raw addres, etc.\n",
        "#printing all the informaton\n",
        "location.raw,location.point,location.longitude,location.latitude,location.altitude,location.address"
      ],
      "execution_count": null,
      "outputs": [
        {
          "output_type": "execute_result",
          "data": {
            "text/plain": [
              "({'boundingbox': ['48.8522459', '48.8600801', '2.2918711', '2.303791'],\n",
              "  'class': 'tourism',\n",
              "  'display_name': 'Champ de Mars, Rue George Bernard Shaw, Quartier de Grenelle, Paris 15e Arrondissement, Paris, Île-de-France, France métropolitaine, 75015, France',\n",
              "  'icon': 'https://nominatim.openstreetmap.org/ui/mapicons//poi_point_of_interest.p.20.png',\n",
              "  'importance': 1.0080889235157509,\n",
              "  'lat': '48.85614465',\n",
              "  'licence': 'Data © OpenStreetMap contributors, ODbL 1.0. https://osm.org/copyright',\n",
              "  'lon': '2.297820393322227',\n",
              "  'osm_id': 4208595,\n",
              "  'osm_type': 'way',\n",
              "  'place_id': 85490064,\n",
              "  'type': 'attraction'},\n",
              " Point(48.85614465, 2.297820393322227, 0.0),\n",
              " 2.297820393322227,\n",
              " 48.85614465,\n",
              " 0.0,\n",
              " 'Champ de Mars, Rue George Bernard Shaw, Quartier de Grenelle, Paris 15e Arrondissement, Paris, Île-de-France, France métropolitaine, 75015, France')"
            ]
          },
          "metadata": {
            "tags": []
          },
          "execution_count": 17
        }
      ]
    },
    {
      "cell_type": "code",
      "metadata": {
        "id": "ylYQlNgXFuLc"
      },
      "source": [
        "#trying another address\n",
        "location2 = locator.geocode(\"IIT Madras\")"
      ],
      "execution_count": null,
      "outputs": []
    },
    {
      "cell_type": "code",
      "metadata": {
        "colab": {
          "base_uri": "https://localhost:8080/"
        },
        "id": "d8fQUnnVF9rc",
        "outputId": "762bb2d8-1c76-41d5-ff26-7437cad432cf"
      },
      "source": [
        "#printing all the informaton\n",
        "location2.raw,location2.point,location2.longitude,location2.latitude,location2.altitude,location2.address"
      ],
      "execution_count": null,
      "outputs": [
        {
          "output_type": "execute_result",
          "data": {
            "text/plain": [
              "({'boundingbox': ['12.9914269', '12.9915269', '80.2336286', '80.2337286'],\n",
              "  'class': 'amenity',\n",
              "  'display_name': 'IIT Madras, Adayar, CMWSSB Division 174, Ward 174, Zone 13 Adyar, Chennai, Chennai District, Tamil Nadu, 600036, India',\n",
              "  'icon': 'https://nominatim.openstreetmap.org/ui/mapicons//education_university.p.20.png',\n",
              "  'importance': 0.6647465975709506,\n",
              "  'lat': '12.9914769',\n",
              "  'licence': 'Data © OpenStreetMap contributors, ODbL 1.0. https://osm.org/copyright',\n",
              "  'lon': '80.2336786',\n",
              "  'osm_id': 4727968819,\n",
              "  'osm_type': 'node',\n",
              "  'place_id': 55250561,\n",
              "  'type': 'university'},\n",
              " Point(12.9914769, 80.2336786, 0.0),\n",
              " 80.2336786,\n",
              " 12.9914769,\n",
              " 0.0,\n",
              " 'IIT Madras, Adayar, CMWSSB Division 174, Ward 174, Zone 13 Adyar, Chennai, Chennai District, Tamil Nadu, 600036, India')"
            ]
          },
          "metadata": {
            "tags": []
          },
          "execution_count": 19
        }
      ]
    },
    {
      "cell_type": "code",
      "metadata": {
        "id": "fHyIT_KzGOu6"
      },
      "source": [
        ""
      ],
      "execution_count": null,
      "outputs": []
    },
    {
      "cell_type": "code",
      "metadata": {
        "id": "1OKDqw9SGN23"
      },
      "source": [
        ""
      ],
      "execution_count": null,
      "outputs": []
    },
    {
      "cell_type": "code",
      "metadata": {
        "id": "edDjWNI_EqB5"
      },
      "source": [
        ""
      ],
      "execution_count": null,
      "outputs": []
    }
  ]
}